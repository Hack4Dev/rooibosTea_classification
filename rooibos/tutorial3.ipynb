{
 "cells": [
  {
   "cell_type": "markdown",
   "id": "18944af0",
   "metadata": {},
   "source": [
    "# Tutorial 3: Classification using simple statistics"
   ]
  },
  {
   "cell_type": "markdown",
   "id": "eb437a6d-139a-412e-bf54-fd62a9ed76f1",
   "metadata": {},
   "source": [
    "---"
   ]
  },
  {
   "cell_type": "markdown",
   "id": "e4539b7e-97d0-4c8b-af08-ce89322657c7",
   "metadata": {},
   "source": [
    "### Welcome to the next-to-last tutorial"
   ]
  },
  {
   "cell_type": "markdown",
   "id": "830509e5",
   "metadata": {},
   "source": [
    "This tutorial will show you how to use python code to implement and evaluate a classification method applied to a dataset (namely, our rooibos data). Current classification methods can be categorized as either (1) basic statistical methods; (2) machine learning; or (3) deep learning. In this notebook, we will use two classical statistical methods: thresholding and  Mahalanobis distance (a mathematical concept invented by the Indian statistician P.C. Mahalanobis in 1936).\n",
    "\n",
    "Besides using the classification methods, it is also important to evaluate the performance of each method. In many cases, one of the two classes is of particular interest. In such cases there is a tradeoff between positively identifying all instances of this class, and avoiding positives. This tradeoff is expressed in terms of two important concepts (which are explained below):  _recall_ and _precision_. \n",
    "\n",
    "When the two classes are equally important, the overall classification accuracy is often used as a measure of performance. As with any parameter estimation, it is important to put error bars on accuracy estimates. For this purpose, we will introduce the \"jackknife\" method for estimating standard deviations of estimators.  As its name suggests, the jackknive method is a very useful general-purpose tool which can be applied to a wide variety of estimators.  "
   ]
  },
  {
   "cell_type": "markdown",
   "id": "86a264e8-219b-4454-8d61-564f2dbc24c4",
   "metadata": {},
   "source": [
    "---"
   ]
  },
  {
   "cell_type": "markdown",
   "id": "e1936d48",
   "metadata": {},
   "source": [
    "### Overview of the classification problem  in general\n",
    "\n",
    "The following picture demonstrates the simple idea behind computational classification of objects. The general procedure is:\n",
    "* Extract features from data;\n",
    "* Pass the features into a model;\n",
    "* The model outputs a determination of the sample's class.\n",
    "\n",
    "<img src=\"pics/cat.png\" width=\"700\" height=\"300\">\n",
    "\n",
    "In this tutorial we are classifying tea samples, and the  features we will be using are the TPC, TEAC, and FRAP measurements obtained from chemical assays.\n",
    "\n",
    "To make this work, the programmer must:\n",
    "* Determine informative features to be used;\n",
    "* Develop a model that can effectively make use of the features extracted;\n",
    "* Evaluate the accuracy of the overall system\n"
   ]
  },
  {
   "cell_type": "markdown",
   "id": "c4d3061e",
   "metadata": {},
   "source": [
    "### Binary classification errors: false positives and false negatives\n",
    "\n",
    "Binary classification supposes that we are trying to distinguish between two classes, denoted as \"null\" and \"positive\". In this case when distinguishing there are two possible errors: false positive or false negative:\n",
    "  * **[False positive](https://www.statisticshowto.com/false-positive-definition-and-examples/)**: This is where you receive a positive result for a test, when you should have received a negative (null) result. For example, it occurs when a cancer screening test comes back positive, but you don’t have the disease.\n",
    "  * **[False negative](https://www.statisticshowto.com/false-positive-definition-and-examples/)**: This is where a negative (null) test result is wrong. For example, in the Justice System, a false negative occurs when a guilty suspect is found “not guilty” and allowed to walk free.\n",
    "  \n",
    "Based on these definitions, we may define:\n",
    "\n",
    "   * _False positive rate_: What proportion of positive identifications were actually negatives?\n",
    "   * _False negative rate_: What proportion of negative idenfications were actually positive?\n",
    "\n",
    "These two work against each other: decreasing the false positive rate tends to increase the false negative rate.\n",
    "\n",
    "\n",
    "* False positive rate is related to [specificity  and precision](https://developers.google.com/machine-learning/crash-course/classification/check-your-understanding-accuracy-precision-recall)\n",
    "* False negative rate is related to [recall and sensitivity](https://developers.google.com/machine-learning/crash-course/classification/check-your-understanding-accuracy-precision-recall)\n",
    "\n",
    "We will define precision and recall below. Of the four measures mentioned, these are the two that are most often used.\n",
    "\n",
    "### Classification by threshold, and measures of performance\n",
    "\n",
    "Often binary classification is based on a single feature (or measurement), or a single quantity calculated from the features of the data sample. If this quantity exceeds a threshold (which is set by the programmer) then the sample is judged to be in one class, and if not the sample is put in the other class.\n",
    "\n",
    "The following [figure](https://developers.google.com/machine-learning/crash-course/classification/precision-and-recall) shows 30 predictions made by an email classification model. Those to the right of the classification _threshold_ are classified as \"spam\", while those to the left are classified as \"not spam.\"\n",
    "\n",
    "<img src=\"pics/preVSrec.svg\" width=\"700\" height=\"200\">\n",
    "\n",
    "where the results can be summaried as follows:\n",
    "\n",
    "<img src=\"pics/table.png\" width=\"300\" height=\"150\">\n",
    "\n",
    "\n",
    "From these we may calculate:\n",
    "\n",
    "* _Precision_ (specificity) measures the percentage of **emails flagged as spam** that were correctly classified—that is, the proportion of all dots to the right of the threshold line that are green in the above figure.\n",
    "<img src=\"pics/pre.png\" width=\"350\" height=\"150\">\n",
    "* _Recall_ (sensitivity)  measures the percentage of **actual spam emails** that were correctly classified—that is, the proportion of all green dots that are to the right of the threshold line in the above figure.\n",
    "<img src=\"pics/rec.png\" width=\"330\" height=\"160\">\n",
    "* _Accuracy_ gives the overall percentage of correct classifications, and can be calculated  as follows: <br><br>\n",
    "<img src=\"pics/acc.png\" width=\"550\" height=\"270\">\n",
    "\n",
    "Different thresholds will give different values for these three measures. "
   ]
  },
  {
   "cell_type": "markdown",
   "id": "f641d86c-d2cc-4346-a848-890a384c075e",
   "metadata": {},
   "source": [
    "---\n",
    "\n",
    "[**Exercise 1:**](https://developers.google.com/machine-learning/crash-course/classification/check-your-understanding-accuracy-precision-recall) Consider a classification model that separates email into two categories: \"spam\" or \"not spam.\" If you raise the classification threshold, what will happen to precision? What about recall?\n"
   ]
  },
  {
   "cell_type": "markdown",
   "id": "f972523b-94ae-4aba-b41d-dc1f44a08aa2",
   "metadata": {},
   "source": [
    "---"
   ]
  },
  {
   "cell_type": "markdown",
   "id": "18492750",
   "metadata": {},
   "source": [
    "### Representing performance tradeoffs  with receiver operating characteristic [(ROC)](https://developers.google.com/machine-learning/crash-course/classification/roc-and-auc) curves"
   ]
  },
  {
   "cell_type": "markdown",
   "id": "a63dcb7b",
   "metadata": {},
   "source": [
    "Receiver operating characteristic (ROC) curves are used to determine thresholds based on the trade-off between false positive error and false negative error. The ROC curve actually shows something slightly different--it represents the proportion of negatives that are _incorrectly_ classified on the x axis versus the proportion of positives that are _correctly_ classified on the y-axis. \n",
    "\n",
    "Our example will use code the python packages matplotlib, numpy, and sklearn. We will also make use of some pre-written programs that are located in the `source` directory--these will be imported later.\n",
    "\n"
   ]
  },
  {
   "cell_type": "code",
   "execution_count": 37,
   "id": "31111d1a",
   "metadata": {},
   "outputs": [],
   "source": [
    "# ___Cell no. 1___\n",
    "\n",
    "# Python packages \n",
    "import matplotlib.pyplot as plt\n",
    "import numpy as np\n",
    "from sklearn.metrics import *\n",
    "from sklearn import metrics\n",
    "from sklearn.model_selection import train_test_split\n",
    "import pandas as pd"
   ]
  },
  {
   "cell_type": "markdown",
   "id": "f9f3bf71-9926-4c32-a38e-6c65310945ef",
   "metadata": {},
   "source": [
    "Recover data\n"
   ]
  },
  {
   "cell_type": "code",
   "execution_count": 38,
   "id": "28832283-e91f-4061-85d8-af541e9178e9",
   "metadata": {},
   "outputs": [
    {
     "name": "stdout",
     "output_type": "stream",
     "text": [
      "Shape of data frame (rows, columns) is:  (98, 8)\n"
     ]
    }
   ],
   "source": [
    "# ___Cell no. 2___\n",
    "\n",
    "%store -r df_nf\n",
    "%store -r df_fer\n",
    "%store -r df\n",
    "\n",
    "print(\"Shape of data frame (rows, columns) is: \", df.shape) "
   ]
  },
  {
   "cell_type": "markdown",
   "id": "5494d657",
   "metadata": {},
   "source": [
    "Now, let's look at the imported data"
   ]
  },
  {
   "cell_type": "code",
   "execution_count": 39,
   "id": "9d6b3da1",
   "metadata": {},
   "outputs": [
    {
     "name": "stdout",
     "output_type": "stream",
     "text": [
      "   type    TPC_MEOH    TEAC_MEOH    FRAP_MEOH  TPC_H2O  TEAC_H2O  FRAP_H2O cut\n",
      "0     0  275.767474  2821.888864  1180.778887   314.33   2588.61    584.61  FC\n",
      "1     0  253.494375  2355.706326   647.096605   331.41   2818.87    589.91  LL\n"
     ]
    }
   ],
   "source": [
    "# ___Cell no. 3___\n",
    "\n",
    "print(df.head(2))"
   ]
  },
  {
   "cell_type": "markdown",
   "id": "ef8ff83d-734d-41b3-8eb0-5b9ab8929fd4",
   "metadata": {},
   "source": [
    "---"
   ]
  },
  {
   "cell_type": "markdown",
   "id": "d8fdd75b-5072-4ab4-93cd-032c0b4d878b",
   "metadata": {},
   "source": [
    "Now let's create arrays for the inputs and outputs. We will separately identify water-based and methanol-based features."
   ]
  },
  {
   "cell_type": "code",
   "execution_count": 40,
   "id": "fe038eb5-3d17-493d-b40e-d83aa3f9319d",
   "metadata": {},
   "outputs": [],
   "source": [
    "# ___Cell no. 4___\n",
    "\n",
    "feat_H2O = ['TPC_H2O', 'TEAC_H2O',  'FRAP_H2O'] # define the input (features) for H20\n",
    "feat_MEOH = ['TPC_MEOH', 'TEAC_MEOH',  'FRAP_MEOH'] # define the input (features) for MeOH\n",
    "\n",
    "y = df[['type']] # define the output (target)"
   ]
  },
  {
   "cell_type": "markdown",
   "id": "7c596127-4813-40bd-8e6d-6408958ee655",
   "metadata": {},
   "source": [
    "We consider the case where we are trying to use individual features to distinguish between fermented and nonfermented.  Since we have three different features, for each feature we can set a classification threshold.  The question is:  of these three features, which will give better classification results? We may use the ROC curves associated with each feature to determine this.\n",
    "\n",
    "We may draw the ROC curves by sorting the data (together with its classification) and counting:"
   ]
  },
  {
   "cell_type": "code",
   "execution_count": 41,
   "id": "fb53a707",
   "metadata": {},
   "outputs": [
    {
     "data": {
      "image/png": "[encoded data removed]",
      "text/plain": [
       "<Figure size 504x360 with 1 Axes>"
      ]
     },
     "metadata": {
      "needs_background": "light"
     },
     "output_type": "display_data"
    }
   ],
   "source": [
    "# ___Cell no. 5___\n",
    "\n",
    "# ROC curves\n",
    "# True = above threshold is taken as positive, False = above threshold is taken as negative\n",
    "thrPos =[True,True,True] \n",
    "plt.figure(figsize=(7 , 5))\n",
    "for f, thp in zip(feat_H2O, thrPos):\n",
    "    xArr = np.array(df[[f]]).flatten()\n",
    "    nx = len(xArr)\n",
    "    yArr = np.array(y).flatten()\n",
    "    # Flip pos/neg labels if negatives are above threshold\n",
    "    if not(thp):\n",
    "        yArr = 1-yArr\n",
    "    # Sort the values in increasing order\n",
    "    ix = np.argsort(xArr)\n",
    "    # Sort the corresponding type determination\n",
    "    ySort= yArr[ix]\n",
    "    # Running count of number of positives below threshold\n",
    "    FN = np.cumsum(ySort)\n",
    "    # Running count of number of negatives below threshold\n",
    "    TN = np.cumsum(1-ySort)\n",
    "    # Running count of number of positives above threshold\n",
    "    TP = np.sum(ySort) - FN\n",
    "    # Running count of number of negatives above threshold\n",
    "    FP = np.sum(1-ySort) - TN\n",
    "    # Proportion of positives that are above the threshold\n",
    "    TPR = TP/(TP+FN)\n",
    "    # Propostion of negatives that are above the threshold\n",
    "    FPR = FP/(TN+FP)\n",
    "    # Plot FPR (x-axis) versus TPR (y-axis)\n",
    "    plt.plot(FPR,TPR, lw=2, label = f+\" AUC: \"+str(round(metrics.auc(FPR, TPR),2)) )\n",
    "\n",
    "# Plot 45 degree line ('guessing')    \n",
    "plt.plot([0, 1], [0, 1], color='navy', lw=2, linestyle='--')\n",
    "# Set x and y limits\n",
    "plt.xlim([0.0, 1.0])\n",
    "plt.ylim([0.0, 1.05])\n",
    "# label x and y axes\n",
    "plt.xlabel('False positive rate (1 - Specificity)', fontweight ='bold', fontsize =14)\n",
    "plt.ylabel('True positive  rate (Recall)', fontweight ='bold', fontsize =14)\n",
    "# title and legend\n",
    "plt.title('ROC curves for $H2O$ based features', fontweight ='bold', fontsize =14)\n",
    "plt.legend(loc=\"lower right\", prop={\"size\":12})\n",
    "plt.show() \n",
    "\n",
    "\n"
   ]
  },
  {
   "cell_type": "markdown",
   "id": "b146701a",
   "metadata": {},
   "source": [
    "Each line in the above graph shows the true positive and false positive rates for classifiers based on a threshold applied to a single feature.  The $x$ and $y$ values depend on the threshold that is set (the thresholds themselves not shown in the graph--only the rates are shown).  For example, if we use the `TPC_H2O` feature and set the threshold  so that the false positive rate is 0.3 (i.e. the specificity is 1- 0.3 = 0.7), then the true positive rate (recall) is between 0.4 and 0.5. \n",
    "\n",
    "The dotted line (which has a slope of 1) corresponds to random guessing:  if you simply make random guesses, then the true and false positive rates will be equal.  A good classifier will have points with large true positive rates and small false positive rate. In other words, the ROC cuve should be *above* the 45 degree line, and the higher the better. The AUC (area under curve) is an overall measure of how high above the 45 degree line the curve is. An AUC value of 0.5 is equivalent to random guessing, while an AUC value of 1 indicates perfect classification (which of courses is rarely possible in practice).  \n",
    "\n",
    "We can see that some classifiers give an AUC value of less than 0.5.  This means that these classifiers are *worse* than random guessing.  How to solve this problem? Easy--we just reinterpret the threshold so that values _below_ the threshold are classified as positive, and the rest negative.  We can do this in the code by specifying the option `False` for the value of `thrPos` for the corresponding curve. "
   ]
  },
  {
   "cell_type": "markdown",
   "id": "01c01bba-b164-489f-a4ee-f0cfdd2cdd2a",
   "metadata": {},
   "source": [
    "---\n",
    "**Exercise 2:** Copy and change the above code so that all ROC curves lie above the dotted line.\n",
    "<br>\n"
   ]
  },
  {
   "cell_type": "code",
   "execution_count": 42,
   "id": "a44cdd38",
   "metadata": {},
   "outputs": [],
   "source": [
    "#  ___ code here ____\n",
    "\n"
   ]
  },
  {
   "cell_type": "markdown",
   "id": "5b7c3e11",
   "metadata": {},
   "source": [
    "---\n",
    "**Exercise 3:** Make another graph for the three features based on MeOH. Make sure that all curves are above the dotted line.\n",
    "<br>\n"
   ]
  },
  {
   "cell_type": "code",
   "execution_count": 43,
   "id": "99e90622",
   "metadata": {},
   "outputs": [],
   "source": [
    "#  ___ code here ____\n",
    "\n"
   ]
  },
  {
   "cell_type": "markdown",
   "id": "8007b47c-458c-45ab-b4a9-321067ea48b4",
   "metadata": {},
   "source": [
    "The ROC curve does not actually tell you which threshold to use. Rather, it only tells you what true positive/false positive tradeoffs are possible.  The user will have to decide which tradeoff is most suitable for his situation, and set the threshold accordingly. \n",
    "\n",
    "ROC curves are especially useful if you want to compare different classifiers. Classifiers with higher ROC curves are better than classifiers with lower curves.\n"
   ]
  },
  {
   "cell_type": "markdown",
   "id": "ee77444f",
   "metadata": {},
   "source": [
    "---\n",
    "**Exercise 4:** Use the AUC's obtained frm ROC curves to determine which of the 6 individual measurements gives the best classifier."
   ]
  },
  {
   "cell_type": "markdown",
   "id": "8e61d190-8904-4120-8bed-e9ecf1602284",
   "metadata": {},
   "source": [
    "---"
   ]
  },
  {
   "cell_type": "markdown",
   "id": "1fcbe963",
   "metadata": {},
   "source": [
    "### Mahalanobis distance--a simple classifier based on a calculated distance measure\n"
   ]
  },
  {
   "cell_type": "markdown",
   "id": "2599ef35-aa7f-42ca-8f9a-bd8fc173eace",
   "metadata": {},
   "source": [
    "Simpler is better. Even when applying more advanced ML classification techniques, one should always use a simple method to set a baseline for comparison.  All too often, researchers fail to do this--they may discover too late that their fancy methods are no better than very simple ones.\n",
    "\n",
    "The simplest classification methods are based on elementary statistics.\n",
    "One standard statistical classification method uses the so-called [*Mahalanobis distance*](https://en.wikipedia.org/wiki/Mahalanobis_distance). Given an (approximately normal) probability distribution, the Mahalanobis distance of a data point to that distribution uses the covariance matrix of the distribution to estimate the \"likelihood\" that that data point belongs to the distribution. So if we have two or more distributions and want to assign a data point to one of them, we may choose the distribution that gives the smallest Mahalanobis distance. One big advantage of Mahalanobis distance is that it can be used to classify data based on multiple features (unlike ROC curves, which only work for single-feature classification).\n",
    "\n",
    "This classification is easy to program in Python. We will demonstrate on our classification of rooibos into fermented and nonfermented. Recall that our data is contained in the dataframe `df`, and the `type` column indicates nonfermented (0) or fermented (1).  We call this our `target output`, and record it in the variable `y`."
   ]
  },
  {
   "cell_type": "code",
   "execution_count": 44,
   "id": "6fd2ac26-2446-4c98-8222-20fac0cf881c",
   "metadata": {},
   "outputs": [],
   "source": [
    "# ___Cell no. 6___\n",
    "\n",
    "y = df[['type']]"
   ]
  },
  {
   "cell_type": "markdown",
   "id": "af36f4f4-0143-4a35-9950-796d4b6ecebd",
   "metadata": {},
   "source": [
    "Then let us list the feature groups that we will use for classification. Each feature group will give us a different classifier. We will look at three single-feature groups and one with two features."
   ]
  },
  {
   "cell_type": "code",
   "execution_count": 45,
   "id": "c4c6843b",
   "metadata": {},
   "outputs": [],
   "source": [
    "# ___Cell no. 7___\n",
    "\n",
    "featureSets = [ ['TPC_H2O'], ['TEAC_H2O'],['FRAP_H2O'], ['TPC_H2O', 'TEAC_H2O']]"
   ]
  },
  {
   "cell_type": "markdown",
   "id": "6118ec32-f13e-4644-a9d6-e999670ca21c",
   "metadata": {},
   "source": [
    "At this point, we need to split the data between training data and testing data. The training data is used to  estimate the distribution parameters of fermented and nonfermented. Then, the testing data is used to evaluate the performance of the resulting classifiers.\n",
    "\n",
    "There is no set rule for choosing the split between training and testing, although generally the training set is larger.  To see which split gives the most reliable classifier, we use <i>jackknife</i> which gives error bars for each estimator's accuracy.  Jackknife works by going through the training/testing process multiple times, each time leaving out one data sample.  This produces multiple accuracy estimates, which can be combined using the \"jackknife formula\" to obtain an estimate for the variance of the classifier's accuracy.  For more background on the jackknife method, see https://en.wikipedia.org/wiki/Jackknife_resampling. \n",
    "\n",
    "First we list the different splits that we will evaluate. Splits are specified according to the proportion of data that is used for testing, while the rest of the data is used for training. "
   ]
  },
  {
   "cell_type": "code",
   "execution_count": 46,
   "id": "c8346783-caec-487d-8a4f-fc7527b4ff47",
   "metadata": {},
   "outputs": [],
   "source": [
    "# ___Cell no. 8___\n",
    "\n",
    "splits = [0.2,0.4]# Each number gives the proportion of testing data for a particular split"
   ]
  },
  {
   "cell_type": "markdown",
   "id": "3e9d5544-b80b-44dc-923c-91fb10715838",
   "metadata": {},
   "source": [
    "It is convenient to store the results in a *dictionary*.  A dictionary is a Python data structure consisting of key-value pairs. Just like in a regular dictionary, stored values are referenced by keyword, instead of using an index as in lists or arrays. \n",
    "\n",
    "In our case, we will create a *nested dictionary*, in which keys are assigned subkeys to label specific information. In our case, the top-level keys indicate the features, second-level keys give the training/testing split, and subkeys indicate different performance results obtained for each estimator.  For more information on nested dictionaries, see: https://www.geeksforgeeks.org/python-nested-dictionary/\n",
    "\n",
    "First we define an empty dictionary to hold our results."
   ]
  },
  {
   "cell_type": "code",
   "execution_count": 47,
   "id": "f15c0edc",
   "metadata": {},
   "outputs": [],
   "source": [
    "# ___Cell no. 9___\n",
    "\n",
    "base_dict = {} "
   ]
  },
  {
   "cell_type": "markdown",
   "id": "b72ae2b5",
   "metadata": {},
   "source": [
    "The following code trains and evaluates 8 classifiers (4 feature sets with 2 splits per feature set).  The code produces the following outputs for each classifier:\n",
    "\n",
    "* `tot_acc`    : total accuracy;\n",
    "* `jack_trainSD` : jackknife estimate of standard deviation due to training variation \n",
    "* `jack_testSD`  : jackknife estimate of standard deviation due to testing variation\n",
    "\n",
    "\n",
    "To obtain all these outputs for multiple classifiers, we need some accessory functions.  First we define a function `acc_score_Maha` to compute the accuracy score for a Mahalanobis-distance based classifier with given training and testing sets. The code is below:"
   ]
  },
  {
   "cell_type": "code",
   "execution_count": 48,
   "id": "6ab37917",
   "metadata": {},
   "outputs": [],
   "source": [
    "# Compute accuracy score for Mahalanobis-based estimator\n",
    "# xtr, xtst are the training and testing data (dataframe format)\n",
    "# ytr, ytst are the training and testing labels (dataframe format)\n",
    "def acc_score_Maha(xtr,ytr,xtst,ytst):\n",
    "        ncol = len(xtr.columns)\n",
    "        # First, convert ytr to array to use as an index\n",
    "        ytr = ytr.to_numpy().flatten()\n",
    "        \n",
    "        # Compute M-dist to data 0\n",
    "        # Select data with label 0\n",
    "        xtr0 = xtr[ytr==0]\n",
    "        #Covariance matrix of training data with label 0 \n",
    "        xtrCov0 = xtr0.cov().to_numpy()\n",
    "        #Shift of testing data by mean of data with label 0\n",
    "        xtst0 = (xtst - xtr0.mean(axis=0)).to_numpy().reshape((-1,ncol))\n",
    "        # Mahalanobis distance of testing data to data with label 0\n",
    "        mahaDist0 = np.diag(xtst0 @ np.linalg.inv(xtrCov0) @ np.transpose(xtst0))\n",
    "        \n",
    "        # Similarly, compute M-dist to data 1\n",
    "        xtr1 = xtr[ytr==1]\n",
    "        xtrCov1 = xtr1.cov().to_numpy()\n",
    "        #Shift of testing data by mean of data with label 1\n",
    "        xtst1 = (xtst - xtr1.mean(axis=0)).to_numpy().reshape((-1,ncol))\n",
    "        # Mahalanobis distance of testing data to data with label 1\n",
    "        mahaDist1 = np.diag(xtst1 @ np.linalg.inv(xtrCov1) @ np.transpose(xtst1))\n",
    "        \n",
    "        ## Algorithm determinantion of test set label\n",
    "        # A `1` is predicted when the distance to label 1 is the smallest; otherwise 0\n",
    "        yPred = mahaDist1 < mahaDist0\n",
    "        # Reformat actual labels to compare with predicted\n",
    "        yActual = ytst.to_numpy().flatten()\n",
    "        # Return the proportion of correct predictions\n",
    "        return np.sum(yActual==yPred)/len(yPred)\n",
    "        "
   ]
  },
  {
   "cell_type": "markdown",
   "id": "6ecd52ed-92c7-47e7-bbf9-64442300e7b1",
   "metadata": {},
   "source": [
    "Next, we define a function `get_accuracy_jack` which returns the accuracy score, plus the standard deviations on the accuracy due to training and testing error computed via jackknife using the leave-out-one accuracy scores:"
   ]
  },
  {
   "cell_type": "code",
   "execution_count": 49,
   "id": "1ca4259f",
   "metadata": {},
   "outputs": [],
   "source": [
    "def get_accuracy_jack(xTrain, yTrain, xTest, yTest):\n",
    "    # Compute accuracy of overall data\n",
    "    accTot = acc_score_Maha(xTrain, yTrain, xTest, yTest)\n",
    "    \n",
    "    # Compute jackknife estimates\n",
    "    # Need number of estimates to define lists of results\n",
    "    nxtr = len(yTrain)\n",
    "    nxte=len(yTest)\n",
    "    \n",
    "    # Make space for lists of leave-out-one results\n",
    "    jackTrainArr = [None]*nxtr\n",
    "    jackTestArr = [None]*nxte\n",
    "    \n",
    "    # Compute accuracies for all leave-out-one train/test sets:\n",
    "    # leave-out-one for training\n",
    "    for jtr,itr in enumerate(list(xTrain.index)):\n",
    "        x_train = xTrain.drop(index=itr)\n",
    "        y_train = yTrain.drop(index=itr)\n",
    "        jackTrainArr[jtr] = acc_score_Maha(x_train, y_train, xTest, yTest)\n",
    "    \n",
    "    # leave-out-one for testing\n",
    "    for jte, ite in enumerate(list(xTest.index)):\n",
    "        x_test = xTest.drop(index=ite)\n",
    "        y_test = yTest.drop(index=ite)\n",
    "        jackTestArr[jte] = acc_score_Maha(xTrain, yTrain, x_test, y_test)   \n",
    "            \n",
    "    # Compute SD's for error due to training and testing via jackknife formula\n",
    "    # The total SD is computed using the variance addition formula\n",
    "    jackTrainSD = np.sqrt((nxtr-1)*np.var(jackTrainArr))\n",
    "    jackTestSD = np.sqrt((nxte-1)*np.var(jackTestArr))\n",
    "    jackTotSD = np.sqrt(jackTrainSD**2 + jackTestSD**2)\n",
    "    \n",
    "    # Finished! return results\n",
    "    return  accTot, jackTrainSD, jackTestSD,jackTotSD\n"
   ]
  },
  {
   "cell_type": "markdown",
   "id": "be1db650",
   "metadata": {},
   "source": [
    "Now we're ready to run tests of different splits and features to find the best alternative.  For this purpose, the following code is typical: we will use similar codes to optimize other hyperparameters (a hyperparameter is a number that determines how the algorithm will operate--another example of hyperparameter is learning rate)."
   ]
  },
  {
   "cell_type": "code",
   "execution_count": 50,
   "id": "4302a95b",
   "metadata": {},
   "outputs": [],
   "source": [
    "# ___Cell no. 10___\n",
    "\n",
    "# This code computes accuracies for a binary classifier based on Mahalanobis distance\n",
    "# with different train/test splits\n",
    "# (https://en.wikipedia.org/wiki/Mahalanobis_distance)\n",
    "from sklearn.model_selection import train_test_split\n",
    "\n",
    "# Loop through different splits (use the same splits for all features)\n",
    "for s in splits:\n",
    "    # Create training and testing sets\n",
    "    X_train, X_test, y_train, y_test = train_test_split(df, y, test_size= s, random_state=1, stratify = y, shuffle = True)\n",
    "    # Set the top-level key\n",
    "    key0 = str(s)\n",
    "    # Create space for this key to store results\n",
    "    base_dict[key0] = {}\n",
    "    # Loop through features\n",
    "    for f in featureSets:                    \n",
    "        # Create keys in order to reference results\n",
    "        key1=str(f) # Creates a top-level key for each estimator\n",
    " \n",
    "        # Call \"get_accuracy_jack\" function in source to perform train and test\n",
    "        results = get_accuracy_jack (X_train[f], y_train, X_test[f], y_test) \n",
    "        \n",
    "        # Index results according to sub-keys\n",
    "        base_dict[key0][key1] = {} # Contains all results for this top-level key\n",
    "        base_dict[key0][key1]['tot_acc'] = results[0]\n",
    "        base_dict[key0][key1]['jack_trainSD'] = results[1]\n",
    "        base_dict[key0][key1]['jack_testSD'] = results[2]\n",
    "        base_dict[key0][key1]['jack_totSD'] = results[3]\n",
    "        \n",
    "        # (optional) print output\n",
    "        # print(base_dict)\n",
    "        # print()"
   ]
  },
  {
   "cell_type": "markdown",
   "id": "37ab97fc",
   "metadata": {},
   "source": [
    "We may access different levels of the dictionary by using the keys"
   ]
  },
  {
   "cell_type": "code",
   "execution_count": 51,
   "id": "7c7a2d20",
   "metadata": {},
   "outputs": [
    {
     "name": "stdout",
     "output_type": "stream",
     "text": [
      "{'tot_acc': 0.75, 'jack_trainSD': 0.278270734473974, 'jack_testSD': 0.0693375245281537, 'jack_totSD': 0.28677917283578536}\n",
      "0.2573388633655838\n"
     ]
    }
   ],
   "source": [
    "# All outputs for a particular split and feature set\n",
    "print(base_dict[\"0.4\"][\"['FRAP_H2O']\"]) \n",
    "# Individual output item\n",
    "print(base_dict[\"0.2\"][\"['TPC_H2O']\"]['jack_trainSD'])"
   ]
  },
  {
   "cell_type": "markdown",
   "id": "8aba0661",
   "metadata": {},
   "source": [
    "We may also display the nested key structure."
   ]
  },
  {
   "cell_type": "code",
   "execution_count": 52,
   "id": "83095daf",
   "metadata": {},
   "outputs": [
    {
     "name": "stdout",
     "output_type": "stream",
     "text": [
      "Top level keys are:\n",
      " dict_keys(['0.2', '0.4'])\n",
      "\n",
      " Subkeys are:\n",
      " dict_keys([\"['TPC_H2O']\", \"['TEAC_H2O']\", \"['FRAP_H2O']\", \"['TPC_H2O', 'TEAC_H2O']\"])\n",
      "\n",
      " Sub-subkeys are:\n",
      " dict_keys(['tot_acc', 'jack_trainSD', 'jack_testSD', 'jack_totSD'])\n"
     ]
    }
   ],
   "source": [
    "# ___Cell no. 12___\n",
    "\n",
    "print(\"Top level keys are:\\n\", base_dict.keys())\n",
    "# Choose the first key\n",
    "key0 = list(base_dict.keys())[0]\n",
    "# Find subkeys under the first key\n",
    "print(\"\\n Subkeys are:\\n\",base_dict[key0].keys() )\n",
    "# Find sub-subkeys\n",
    "key1 = list(base_dict[key0].keys())[0]\n",
    "print(\"\\n Sub-subkeys are:\\n\",base_dict[key0][key1].keys() )\n"
   ]
  },
  {
   "cell_type": "markdown",
   "id": "41fe628e",
   "metadata": {},
   "source": [
    "We store the dictionary to use in the next notebook."
   ]
  },
  {
   "cell_type": "code",
   "execution_count": 53,
   "id": "6b4c9241",
   "metadata": {},
   "outputs": [
    {
     "name": "stdout",
     "output_type": "stream",
     "text": [
      "Stored 'base_dict' (dict)\n"
     ]
    }
   ],
   "source": [
    "# ___Cell no. 11___\n",
    "\n",
    "%store base_dict "
   ]
  },
  {
   "cell_type": "markdown",
   "id": "ee6d9fab",
   "metadata": {},
   "source": [
    "In praparation for plotting, we extrat the accuracy and SD results from the dictionary and put into arrays. We can also print out the results."
   ]
  },
  {
   "cell_type": "code",
   "execution_count": 54,
   "id": "c70bea8b",
   "metadata": {},
   "outputs": [
    {
     "name": "stdout",
     "output_type": "stream",
     "text": [
      "Classifier name:0.2,['TPC_H2O']\n",
      "Estimated accuracy: 0.5\n",
      "Standard deviation:0.28174666872055953\n",
      "\n",
      "Classifier name:0.2,['TEAC_H2O']\n",
      "Estimated accuracy: 0.7\n",
      "Standard deviation:0.10513149660756924\n",
      "\n",
      "Classifier name:0.2,['FRAP_H2O']\n",
      "Estimated accuracy: 0.7\n",
      "Standard deviation:0.2281634255061725\n",
      "\n",
      "Classifier name:0.2,['TPC_H2O', 'TEAC_H2O']\n",
      "Estimated accuracy: 0.8\n",
      "Standard deviation:0.0917662935482246\n",
      "\n",
      "Classifier name:0.4,['TPC_H2O']\n",
      "Estimated accuracy: 0.55\n",
      "Standard deviation:0.08996396844211696\n",
      "\n",
      "Classifier name:0.4,['TEAC_H2O']\n",
      "Estimated accuracy: 0.675\n",
      "Standard deviation:0.13291317134775255\n",
      "\n",
      "Classifier name:0.4,['FRAP_H2O']\n",
      "Estimated accuracy: 0.75\n",
      "Standard deviation:0.28677917283578536\n",
      "\n",
      "Classifier name:0.4,['TPC_H2O', 'TEAC_H2O']\n",
      "Estimated accuracy: 0.85\n",
      "Standard deviation:0.05717718748968661\n",
      "\n"
     ]
    }
   ],
   "source": [
    "# ___Cell no. 13___\n",
    "class_name = []\n",
    "acc_arr = [] \n",
    "sd_arr = [] \n",
    "\n",
    "\n",
    "for key0 in list(base_dict.keys()):\n",
    "    for key1 in list(base_dict[key0].keys()):\n",
    "        this_cn = str(key0)+','+str(key1)\n",
    "        this_acc = base_dict[key0][key1][ 'tot_acc' ]\n",
    "        this_sd = base_dict[key0][key1]['jack_totSD']\n",
    "        class_name.append(this_cn)\n",
    "        acc_arr.append(this_acc) # append total accuarcy to an array\n",
    "        sd_arr.append(this_sd) # append sd to array of standard deviations\n",
    "\n",
    "        # (Optional) print accuracy and standard deviation for each classifier\n",
    "        print( \"Classifier name:\"+this_cn )\n",
    "        print( \"Estimated accuracy: \" + str(this_acc ))\n",
    "        print(\"Standard deviation:\"+str(this_sd))\n",
    "        print()"
   ]
  },
  {
   "cell_type": "markdown",
   "id": "4d6945c1",
   "metadata": {},
   "source": [
    "The printed results are hard to interpret. It's much better to visualize using a graph. The `matplotlib` package `errorbar` makes it easy to plot error bars."
   ]
  },
  {
   "cell_type": "code",
   "execution_count": 55,
   "id": "838b1528",
   "metadata": {
    "scrolled": true
   },
   "outputs": [
    {
     "data": {
      "image/png": "[encoded data removed]",
      "text/plain": [
       "<Figure size 720x360 with 1 Axes>"
      ]
     },
     "metadata": {
      "needs_background": "light"
     },
     "output_type": "display_data"
    }
   ],
   "source": [
    "# ___Cell no. 14___\n",
    "\n",
    "plt.figure(figsize=(10 , 5))\n",
    "plt.title( \"Accuracies for different features with SD\", fontweight ='bold', fontsize =12)\n",
    "plt.xlabel(\"Features\", fontweight ='bold', fontsize =12)\n",
    "plt.xticks(rotation = 60) # Rotates X-Axis Ticks by 45-degrees\n",
    "plt.ylabel(\"Accuracy\", fontweight ='bold', fontsize =12)\n",
    "plt.errorbar( class_name, acc_arr, sd_arr, fmt='o')\n",
    "plt.show()"
   ]
  },
  {
   "cell_type": "markdown",
   "id": "29d780a5",
   "metadata": {},
   "source": [
    "**Exercise 5**:  Based on the above graph:\n",
    "* Which of the better split:  40% testing or 20% testing? Justify your answer.\n",
    "* Which feature set gives the most accurate classifier? Justify your answer.\n",
    "---"
   ]
  },
  {
   "cell_type": "markdown",
   "id": "2b2b97c8",
   "metadata": {},
   "source": [
    "It is very important to understand the meaning of the error bars. We do not know the actual accuracy of the classifiers: with more training and testing data, the accuracy estimate of any classifier will change. The error bars show the level of uncertainty in each classifier's accuracy.  In other words, if we do a more thorough test with more data, we expect to obtain an accuracy somewhere within the error bars. (We can also reduce the size of the error bars if we do more tests. \n",
    "\n",
    "In particular, the above graph shows that the `0.4,['TPC_H20']` classifier is statistically worse than the `0.4,['TPC_H20','TEAC_H20']` classifier because their error bars do not overlap.  On the other hand, although it looks like `0.4,['TPC_H20','TEAC_H20']` is better than `0.4,['FRAP_H20']`, still we cannot conclude that the difference between the two classifiers is statistically significant, because of the large error bars on the accuracy estimate for  `0.4,['FRAP_H20']`."
   ]
  },
  {
   "cell_type": "markdown",
   "id": "ee148c5e",
   "metadata": {},
   "source": [
    "---\n",
    "**Challenge**\n",
    " 1. You have tried splits of 20% and 40%.  With the same features, try to find the best possible split. But don't go over 50%, because there are theoretical reasons that indicate that over 50% cannot be optimal.\n",
    "2. Repeat the same analysis  (and the same graphs) with the corresponding features using methanol instead of water.\n",
    "3. Compare water-based versus methanol-based estimators. Which give higher accuracy? Is this consistent?\n",
    "4. Take the best of the four water-based estimators, and compare with the other two estimators that are based on two features (TPC and FRAP, TEAC and FRAP). Which is the best?\n",
    "5. Repeat (4) with methanol-based estimators.\n",
    "5. Which is the overall best estimator of those we've seen so far. "
   ]
  },
  {
   "cell_type": "markdown",
   "id": "692063bc-d01c-4e0e-a349-f4e8f6a2095a",
   "metadata": {},
   "source": [
    "### _The END of this notebook_\n",
    "_see you in the next and the last tutorial_"
   ]
  },
  {
   "cell_type": "markdown",
   "id": "e38b18b2-8cc8-43b6-a58e-3193d0e09541",
   "metadata": {},
   "source": [
    "<img src=\"pics/bam.png\" width=\"300\" height=\"200\">\n"
   ]
  }
 ],
 "metadata": {
  "kernelspec": {
   "display_name": "Python 3",
   "language": "python",
   "name": "python3"
  },
  "language_info": {
   "codemirror_mode": {
    "name": "ipython",
    "version": 3
   },
   "file_extension": ".py",
   "mimetype": "text/x-python",
   "name": "python",
   "nbconvert_exporter": "python",
   "pygments_lexer": "ipython3",
   "version": "3.8.3"
  }
 },
 "nbformat": 4,
 "nbformat_minor": 5
}
